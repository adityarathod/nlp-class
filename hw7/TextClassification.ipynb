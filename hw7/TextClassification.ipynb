{
	"cells": [
		{
			"cell_type": "markdown",
			"metadata": {
				"id": "KzGn_pzhygqS"
			},
			"source": [
				"# Comparing the Classification Performance of Various Models on Coronavirus Tweets\n",
				"\n",
				"[Kaggle dataset](https://www.kaggle.com/datasets/datatattle/covid-19-nlp-text-classification?resource=download)\n",
				"\n",
				"This is a dataset of COVID-era tweets and their hand-labeled sentiments. In this problem, we will use the TF-IDF values of unigrams and bigrams and determine the probable sentiment of the tweet as either positive, negative, neutral, or extremely positive / negative.\n",
				"\n",
				"The dataset is pre-split into training and test data, which serves to be convenient for our purposes, as we can fit a TF-IDF vectorizer on just the training split to ensure there's no data leakage in the form of vocabulary (something I realized could be a pretty big factor in evaluating the \"true\" generalization power of each model for this task)."
			]
		},
		{
			"cell_type": "markdown",
			"metadata": {
				"id": "M1j9m5mmzWOM"
			},
			"source": [
				"## Part 1: Load in data"
			]
		},
		{
			"cell_type": "code",
			"execution_count": 3,
			"metadata": {
				"colab": {
					"base_uri": "https://localhost:8080/"
				},
				"id": "mLnEVaZYydBS",
				"outputId": "7d904ac1-55a9-447b-9ca0-f40163422c34"
			},
			"outputs": [
				{
					"name": "stderr",
					"output_type": "stream",
					"text": [
						"[nltk_data] Downloading package stopwords to\n",
						"[nltk_data]     /Users/aditya/nltk_data...\n",
						"[nltk_data]   Package stopwords is already up-to-date!\n"
					]
				},
				{
					"data": {
						"text/plain": [
							"True"
						]
					},
					"execution_count": 3,
					"metadata": {},
					"output_type": "execute_result"
				}
			],
			"source": [
				"import pandas as pd\n",
				"import nltk\n",
				"nltk.download('stopwords')"
			]
		},
		{
			"cell_type": "code",
			"execution_count": 4,
			"metadata": {
				"id": "FjAau69uy7cj"
			},
			"outputs": [],
			"source": [
				"train_df = pd.read_csv('Corona_NLP_train.csv', encoding = \"ISO-8859-1\", dtype = {'Sentiment': 'category'})\n",
				"test_df = pd.read_csv('Corona_NLP_test.csv', encoding = \"ISO-8859-1\", dtype = {'Sentiment': 'category'})"
			]
		},
		{
			"cell_type": "code",
			"execution_count": 5,
			"metadata": {
				"colab": {
					"base_uri": "https://localhost:8080/",
					"height": 250
				},
				"id": "JPZawTpmzZaI",
				"outputId": "4d7d3d7e-a4c3-4b70-9648-70fa4e9be1ec"
			},
			"outputs": [
				{
					"data": {
						"text/html": [
							"<div>\n",
							"<style scoped>\n",
							"    .dataframe tbody tr th:only-of-type {\n",
							"        vertical-align: middle;\n",
							"    }\n",
							"\n",
							"    .dataframe tbody tr th {\n",
							"        vertical-align: top;\n",
							"    }\n",
							"\n",
							"    .dataframe thead th {\n",
							"        text-align: right;\n",
							"    }\n",
							"</style>\n",
							"<table border=\"1\" class=\"dataframe\">\n",
							"  <thead>\n",
							"    <tr style=\"text-align: right;\">\n",
							"      <th></th>\n",
							"      <th>UserName</th>\n",
							"      <th>ScreenName</th>\n",
							"      <th>Location</th>\n",
							"      <th>TweetAt</th>\n",
							"      <th>OriginalTweet</th>\n",
							"      <th>Sentiment</th>\n",
							"    </tr>\n",
							"  </thead>\n",
							"  <tbody>\n",
							"    <tr>\n",
							"      <th>0</th>\n",
							"      <td>3799</td>\n",
							"      <td>48751</td>\n",
							"      <td>London</td>\n",
							"      <td>16-03-2020</td>\n",
							"      <td>@MeNyrbie @Phil_Gahan @Chrisitv https://t.co/i...</td>\n",
							"      <td>Neutral</td>\n",
							"    </tr>\n",
							"    <tr>\n",
							"      <th>1</th>\n",
							"      <td>3800</td>\n",
							"      <td>48752</td>\n",
							"      <td>UK</td>\n",
							"      <td>16-03-2020</td>\n",
							"      <td>advice Talk to your neighbours family to excha...</td>\n",
							"      <td>Positive</td>\n",
							"    </tr>\n",
							"    <tr>\n",
							"      <th>2</th>\n",
							"      <td>3801</td>\n",
							"      <td>48753</td>\n",
							"      <td>Vagabonds</td>\n",
							"      <td>16-03-2020</td>\n",
							"      <td>Coronavirus Australia: Woolworths to give elde...</td>\n",
							"      <td>Positive</td>\n",
							"    </tr>\n",
							"    <tr>\n",
							"      <th>3</th>\n",
							"      <td>3802</td>\n",
							"      <td>48754</td>\n",
							"      <td>NaN</td>\n",
							"      <td>16-03-2020</td>\n",
							"      <td>My food stock is not the only one which is emp...</td>\n",
							"      <td>Positive</td>\n",
							"    </tr>\n",
							"    <tr>\n",
							"      <th>4</th>\n",
							"      <td>3803</td>\n",
							"      <td>48755</td>\n",
							"      <td>NaN</td>\n",
							"      <td>16-03-2020</td>\n",
							"      <td>Me, ready to go at supermarket during the #COV...</td>\n",
							"      <td>Extremely Negative</td>\n",
							"    </tr>\n",
							"  </tbody>\n",
							"</table>\n",
							"</div>"
						],
						"text/plain": [
							"   UserName  ScreenName   Location     TweetAt  \\\n",
							"0      3799       48751     London  16-03-2020   \n",
							"1      3800       48752         UK  16-03-2020   \n",
							"2      3801       48753  Vagabonds  16-03-2020   \n",
							"3      3802       48754        NaN  16-03-2020   \n",
							"4      3803       48755        NaN  16-03-2020   \n",
							"\n",
							"                                       OriginalTweet           Sentiment  \n",
							"0  @MeNyrbie @Phil_Gahan @Chrisitv https://t.co/i...             Neutral  \n",
							"1  advice Talk to your neighbours family to excha...            Positive  \n",
							"2  Coronavirus Australia: Woolworths to give elde...            Positive  \n",
							"3  My food stock is not the only one which is emp...            Positive  \n",
							"4  Me, ready to go at supermarket during the #COV...  Extremely Negative  "
						]
					},
					"execution_count": 5,
					"metadata": {},
					"output_type": "execute_result"
				}
			],
			"source": [
				"train_df.head(5)"
			]
		},
		{
			"cell_type": "code",
			"execution_count": 6,
			"metadata": {
				"id": "VC8EfyN7zrWF"
			},
			"outputs": [],
			"source": [
				"train_tweets = train_df[['OriginalTweet', 'Sentiment']]\n",
				"test_tweets = test_df[['OriginalTweet', 'Sentiment']]"
			]
		},
		{
			"cell_type": "markdown",
			"metadata": {
				"id": "pwOnSGku4XSq"
			},
			"source": [
				"## Part 2: Explore the Data\n",
				"\n",
				"Let's look at the distributions of the tweet sentiments."
			]
		},
		{
			"cell_type": "code",
			"execution_count": 7,
			"metadata": {
				"colab": {
					"base_uri": "https://localhost:8080/",
					"height": 470
				},
				"id": "h3yLtH3q4jGx",
				"outputId": "4d11ed04-df40-4b28-b418-c04126ca6d65"
			},
			"outputs": [
				{
					"data": {
						"text/plain": [
							"<Axes: title={'center': 'Training Sentiment Distribution'}>"
						]
					},
					"execution_count": 7,
					"metadata": {},
					"output_type": "execute_result"
				},
				{
					"data": {
						"image/png": "[encoded data removed]",
						"text/plain": [
							"<Figure size 640x480 with 1 Axes>"
						]
					},
					"metadata": {},
					"output_type": "display_data"
				}
			],
			"source": [
				"train_tweets['Sentiment'].value_counts().plot(kind='barh', title='Training Sentiment Distribution')"
			]
		},
		{
			"cell_type": "code",
			"execution_count": 8,
			"metadata": {
				"colab": {
					"base_uri": "https://localhost:8080/",
					"height": 470
				},
				"id": "4rFsrjZt5XO1",
				"outputId": "576afa3c-ee25-47c4-e3e0-65080bc066ec"
			},
			"outputs": [
				{
					"data": {
						"text/plain": [
							"<Axes: title={'center': 'Test Sentiment Distribution'}>"
						]
					},
					"execution_count": 8,
					"metadata": {},
					"output_type": "execute_result"
				},
				{
					"data": {
						"image/png": "[encoded data removed]",
						"text/plain": [
							"<Figure size 640x480 with 1 Axes>"
						]
					},
					"metadata": {},
					"output_type": "display_data"
				}
			],
			"source": [
				"test_tweets['Sentiment'].value_counts().plot(kind='barh', title='Test Sentiment Distribution')"
			]
		},
		{
			"cell_type": "markdown",
			"metadata": {
				"id": "55CfR8lL5eC7"
			},
			"source": [
				"We can see that we have quite a few positive and negative tweets, and fewer that are in the middle or in the extremes. In general, this distribution is pretty even for the training and the test data."
			]
		},
		{
			"cell_type": "markdown",
			"metadata": {
				"id": "acB4U8cGz3I5"
			},
			"source": [
				"## Part 3: Vectorize train & test tweets"
			]
		},
		{
			"cell_type": "markdown",
			"metadata": {
				"id": "p9FpTnaV6tww"
			},
			"source": [
				"Vectorize tweets, removing stop words and limiting the document frequency of unigrams/bigrams to 5%. \n",
				"\n",
				"> **Note**\n",
				"> \n",
				"> Because of the high dimensionality of each TF-IDF vector due to the high vocabulary exhibited in the dataset and the number of documents in the training set combined with the computing session and RAM limits of environments such as Google Colab and my local computer, I had to choose this arbitrary limit and focus only on unigrams (because extending the n-gram range would further increase the dimensionality of the TF-IDF vector).\n",
				">\n",
				"> Unfortunately, this severely limited the performance of every model I tested, as I will acknowledge in the conclusion."
			]
		},
		{
			"cell_type": "code",
			"execution_count": 9,
			"metadata": {
				"id": "zrbuhnDGz2lI"
			},
			"outputs": [],
			"source": [
				"from nltk.corpus import stopwords\n",
				"from sklearn.feature_extraction.text import TfidfVectorizer\n",
				"stopwords = list(set(stopwords.words('english')))\n",
				"vectorizer = TfidfVectorizer(max_df=0.05, stop_words=stopwords)"
			]
		},
		{
			"cell_type": "code",
			"execution_count": 10,
			"metadata": {
				"id": "_uTwgslH0OAU"
			},
			"outputs": [],
			"source": [
				"train_tweets_vectorized = vectorizer.fit_transform(train_tweets['OriginalTweet']).toarray()"
			]
		},
		{
			"cell_type": "code",
			"execution_count": 11,
			"metadata": {
				"id": "8CXzvnOv0VS_"
			},
			"outputs": [],
			"source": [
				"test_tweets_vectorized = vectorizer.transform(test_tweets['OriginalTweet']).toarray()"
			]
		},
		{
			"cell_type": "code",
			"execution_count": 12,
			"metadata": {},
			"outputs": [
				{
					"data": {
						"text/plain": [
							"80253"
						]
					},
					"execution_count": 12,
					"metadata": {},
					"output_type": "execute_result"
				}
			],
			"source": [
				"len(vectorizer.vocabulary_)"
			]
		},
		{
			"cell_type": "markdown",
			"metadata": {
				"id": "752Z69Cy3pJp"
			},
			"source": [
				"## Part 4: Convert sentiments to numerical values"
			]
		},
		{
			"cell_type": "code",
			"execution_count": 13,
			"metadata": {
				"id": "u_RHjArV15Wy"
			},
			"outputs": [],
			"source": [
				"train_sentiments = train_tweets['Sentiment'].cat.codes.to_numpy()\n",
				"test_sentiments = test_tweets['Sentiment'].cat.codes.to_numpy()"
			]
		},
		{
			"cell_type": "code",
			"execution_count": 14,
			"metadata": {},
			"outputs": [],
			"source": [
				"sentiments = train_tweets['Sentiment'].cat.categories.to_list()"
			]
		},
		{
			"cell_type": "markdown",
			"metadata": {
				"id": "UHbftooL68GJ"
			},
			"source": [
				"## Part 5: Train Naive Bayes classifier and perform predictions"
			]
		},
		{
			"cell_type": "code",
			"execution_count": 19,
			"metadata": {
				"colab": {
					"base_uri": "https://localhost:8080/",
					"height": 75
				},
				"id": "DE23iFkG39Cl",
				"outputId": "8efb48c0-7b5e-49e7-c6b5-315695b798ea"
			},
			"outputs": [],
			"source": [
				"from sklearn.naive_bayes import MultinomialNB\n",
				"\n",
				"# utility function to load model\n",
				"def load_model(model_path: str):\n",
				"    import pickle\n",
				"    with open(model_path, 'rb') as f:\n",
				"        return pickle.load(f)\n",
				"\n",
				"def save_model(model, model_path: str):\n",
				"    import pickle\n",
				"    with open(model_path, 'wb') as f:\n",
				"        pickle.dump(model, f)\n",
				"\n",
				"# whether to train the model from scratch or load from disk\n",
				"train_nb = False\n",
				"naive_bayes: MultinomialNB = MultinomialNB()\n",
				"\n",
				"if train_nb:\n",
				"    naive_bayes.fit(train_tweets_vectorized, train_sentiments)\n",
				"    save_model(naive_bayes, './models/naive_bayes_model.pkl')\n",
				"else:\n",
				"    naive_bayes = load_model('./models/naive_bayes_model.pkl')"
			]
		},
		{
			"cell_type": "code",
			"execution_count": 20,
			"metadata": {
				"id": "pC_8PHB97FhH"
			},
			"outputs": [],
			"source": [
				"naive_bayes_pred = naive_bayes.predict(test_tweets_vectorized)"
			]
		},
		{
			"cell_type": "markdown",
			"metadata": {
				"id": "I44cU05e79oa"
			},
			"source": [
				"## Part 6: Train Logistic Regression model and perform predictions"
			]
		},
		{
			"cell_type": "code",
			"execution_count": 21,
			"metadata": {},
			"outputs": [],
			"source": [
				"from sklearn.linear_model import LogisticRegression\n",
				"\n",
				"# whether to train the model from scratch or load from disk\n",
				"train_logreg = False\n",
				"logreg: LogisticRegression = LogisticRegression(solver='saga', n_jobs=-1)\n",
				"\n",
				"if train_logreg:\n",
				"    logreg.fit(train_tweets_vectorized, train_sentiments)\n",
				"    save_model(logreg, './models/logreg_model.pkl')\n",
				"else:\n",
				"    logreg = load_model('./models/logreg_model.pkl')"
			]
		},
		{
			"cell_type": "code",
			"execution_count": 22,
			"metadata": {
				"id": "eAAoDFf37xPy"
			},
			"outputs": [],
			"source": [
				"logreg_pred = logreg.predict(test_tweets_vectorized)"
			]
		},
		{
			"cell_type": "markdown",
			"metadata": {
				"id": "SK_IbSmU8g6N"
			},
			"source": [
				"## Part 7: Train Neural Network model and perform predictions"
			]
		},
		{
			"cell_type": "code",
			"execution_count": 23,
			"metadata": {
				"colab": {
					"base_uri": "https://localhost:8080/",
					"height": 222
				},
				"id": "gYatst5t8ZTo",
				"outputId": "5266ea98-07fc-4cc6-ec5e-51787b64bc28"
			},
			"outputs": [],
			"source": [
				"from sklearn.neural_network import MLPClassifier\n",
				"\n",
				"# whether to train the model from scratch or load from disk\n",
				"train_nn = False\n",
				"nn: MLPClassifier = MLPClassifier(solver='adam', alpha=1e-3, hidden_layer_sizes=(15, 20), random_state=1)\n",
				"\n",
				"if train_nn:\n",
				"    nn.fit(train_tweets_vectorized, train_sentiments)\n",
				"    save_model(nn, './models/nn_model.pkl')\n",
				"else:\n",
				"    nn = load_model('./models/nn_model.pkl')"
			]
		},
		{
			"cell_type": "code",
			"execution_count": 24,
			"metadata": {},
			"outputs": [
				{
					"data": {
						"text/plain": [
							"0.9999028111864324"
						]
					},
					"execution_count": 24,
					"metadata": {},
					"output_type": "execute_result"
				}
			],
			"source": [
				"nn.score(train_tweets_vectorized, train_sentiments)"
			]
		},
		{
			"cell_type": "code",
			"execution_count": 25,
			"metadata": {
				"id": "82o5sprd8vdC"
			},
			"outputs": [],
			"source": [
				"nn_pred = nn.predict(test_tweets_vectorized)"
			]
		},
		{
			"cell_type": "markdown",
			"metadata": {
				"id": "uiyMhFMI8yVK"
			},
			"source": [
				"## Part 8: Compare results"
			]
		},
		{
			"cell_type": "code",
			"execution_count": 26,
			"metadata": {
				"id": "VqhSosns8zNy"
			},
			"outputs": [],
			"source": [
				"from sklearn.metrics import classification_report"
			]
		},
		{
			"cell_type": "code",
			"execution_count": 27,
			"metadata": {},
			"outputs": [
				{
					"name": "stdout",
					"output_type": "stream",
					"text": [
						"0 - Extremely Negative\n",
						"1 - Extremely Positive\n",
						"2 - Negative\n",
						"3 - Neutral\n",
						"4 - Positive\n"
					]
				}
			],
			"source": [
				"for idx, sentiment in enumerate(sentiments):\n",
				"    print(f\"{idx} - {sentiment}\")"
			]
		},
		{
			"cell_type": "code",
			"execution_count": 28,
			"metadata": {
				"colab": {
					"base_uri": "https://localhost:8080/"
				},
				"id": "O64-cKO58x48",
				"outputId": "b82b463e-2596-4117-c259-1e3c8c3d2a2d"
			},
			"outputs": [
				{
					"name": "stdout",
					"output_type": "stream",
					"text": [
						"Naive Bayes\n",
						"              precision    recall  f1-score   support\n",
						"\n",
						"           0       0.75      0.01      0.02       592\n",
						"           1       0.95      0.03      0.06       599\n",
						"           2       0.39      0.38      0.38      1041\n",
						"           3       0.80      0.03      0.06       619\n",
						"           4       0.31      0.90      0.47       947\n",
						"\n",
						"    accuracy                           0.34      3798\n",
						"   macro avg       0.64      0.27      0.20      3798\n",
						"weighted avg       0.58      0.34      0.25      3798\n",
						"\n"
					]
				}
			],
			"source": [
				"print('Naive Bayes')\n",
				"print(classification_report(test_sentiments, naive_bayes_pred))"
			]
		},
		{
			"cell_type": "code",
			"execution_count": 29,
			"metadata": {
				"id": "-NIOFJ8n9NAp"
			},
			"outputs": [
				{
					"name": "stdout",
					"output_type": "stream",
					"text": [
						"Logistic Regression\n",
						"              precision    recall  f1-score   support\n",
						"\n",
						"           0       0.61      0.42      0.49       592\n",
						"           1       0.66      0.53      0.59       599\n",
						"           2       0.47      0.51      0.49      1041\n",
						"           3       0.61      0.54      0.58       619\n",
						"           4       0.46      0.61      0.53       947\n",
						"\n",
						"    accuracy                           0.53      3798\n",
						"   macro avg       0.56      0.52      0.54      3798\n",
						"weighted avg       0.54      0.53      0.53      3798\n",
						"\n"
					]
				}
			],
			"source": [
				"print('Logistic Regression')\n",
				"print(classification_report(test_sentiments, logreg_pred))"
			]
		},
		{
			"cell_type": "code",
			"execution_count": 30,
			"metadata": {
				"colab": {
					"base_uri": "https://localhost:8080/"
				},
				"id": "BWO9ONXr9Ree",
				"outputId": "4868bb84-75e1-4b11-9ccb-40ed0c325330"
			},
			"outputs": [
				{
					"name": "stdout",
					"output_type": "stream",
					"text": [
						"Neural Networks\n",
						"              precision    recall  f1-score   support\n",
						"\n",
						"           0       0.56      0.53      0.54       592\n",
						"           1       0.63      0.61      0.62       599\n",
						"           2       0.45      0.44      0.44      1041\n",
						"           3       0.51      0.47      0.49       619\n",
						"           4       0.45      0.50      0.47       947\n",
						"\n",
						"    accuracy                           0.50      3798\n",
						"   macro avg       0.52      0.51      0.51      3798\n",
						"weighted avg       0.50      0.50      0.50      3798\n",
						"\n"
					]
				}
			],
			"source": [
				"print('Neural Networks')\n",
				"print(classification_report(test_sentiments, nn_pred))"
			]
		},
		{
			"cell_type": "markdown",
			"metadata": {},
			"source": [
				"## Part 9: Summary of results\n",
				"\n",
				"Each of these approaches produced varying results, all of which are explainable considering the nature of the data. I also briefly discuss some constraints I faced and future improvements.\n",
				"\n",
				"All metrics below are discussed in terms of the pre-split test set."
			]
		},
		{
			"cell_type": "markdown",
			"metadata": {},
			"source": [
				"### Naïve Bayes\n",
				"The Naïve Bayes approach performed the worst, both in terms of accuracy and the balance of precision and recall (as measured by $F_1$ score). With a paltry 34% accuracy and a weighted $F_1$ score of 0.25, this approach perfomed poorly to the unigram TF-IDF vector to sentiment mapping task presented in this experiment. This makes sense, because the driving assumption of Naïve Bayes is that each predictor (feature) is independent of one another, which is clearly not the case in language (which is a order and sequence-dependent task).\n",
				"\n",
				"What I found particularly interesting here was the low to mid-range $F_1$ scores for the two most-present classes (`Negative` and `Positive`) in comparison to the basically nascent performance on all the other classes. This seems to suggest that perhaps this approach could scale well to more training samples."
			]
		},
		{
			"cell_type": "markdown",
			"metadata": {},
			"source": [
				"### Neural Networks\n",
				"Surprisingly, the neural network-based approach came in second, with a middling accuracy of 50% and a weighted $F_1$ score of 0.5 as well. I suspect the poor performance is due to the scaling back of the TF-IDF vector size, which is disappointing.\n",
				"\n",
				"Based on the training accuracy, it unfortunately seems like the model has overfit on the data. As such, it may be useful to explore early-stopping heuristics."
			]
		},
		{
			"cell_type": "markdown",
			"metadata": {},
			"source": [
				"### Logistic Regression\n",
				"This approach performed the best, with a 53% accuracy rate and a weighted $F_1$ score of 0.53. This sort of makes sense, because I can imagine a linear combination of TF-IDF scores corresponding to each term could be weighted to produce classifications."
			]
		},
		{
			"cell_type": "markdown",
			"metadata": {},
			"source": [
				"## Part 10: Improving performance\n",
				"There are various approaches that I didn't get to try due to the RAM limits I was hitting both on Colab and my local machine. In no particular order, here are my thoughts:\n",
				"\n",
				"### Increasing n-gram length\n",
				"I believe that due to the nature of text data, providing more context in the form of TF-IDF for more than unigrams would be beneficial to determine sentiment of texts. Even adding bigrams and trigrams would be massively beneficial to performance, at the cost of higher sparsity in each vector.\n",
				"\n",
				"### Decreasing sparsity using dimensionality reduction techniques\n",
				"One technique I've found very useful to reduce sparsity of vectors in text datasets (in particular, for my chatbot project) is to utilize dimensionality reduction algorithms to project vectors down into a lower-dimensional space, creating low-rank sparse vectors that reduce the number of parameters in each model with little to no cost on perfomance. This may solve the RAM issue once the dimensionality reduction runs in most cases, but unfortunately, I was still hitting this issue just running the SVD algorithm in the Colab VM. If I had more time to work on this assignment, I'd be able to first convert documents into these low-rank dense representations and then move forward from there.\n",
				"\n",
				"### Pre-trained document vectorizers\n",
				"I interpreted the directions of the assignment to not allow the use of this technique, but this would vastly improve performance without needing the previous two techniques. Using models trained on large corpuses would allow us to use dense low-rank document vectors that also have some contextual understanding. This would also allow us to get away with using a really small number of parameters on the sentiment model too, at the cost of higher upfront compute cost.\n"
			]
		}
	],
	"metadata": {
		"authors": [
			{
				"name": "Aditya Rathod (AGR190000)"
			}
		],
		"colab": {
			"provenance": []
		},
		"kernelspec": {
			"display_name": "Python 3 (ipykernel)",
			"language": "python",
			"name": "python3"
		},
		"language_info": {
			"codemirror_mode": {
				"name": "ipython",
				"version": 3
			},
			"file_extension": ".py",
			"mimetype": "text/x-python",
			"name": "python",
			"nbconvert_exporter": "python",
			"pygments_lexer": "ipython3",
			"version": "3.10.9"
		},
		"vscode": {
			"interpreter": {
				"hash": "321ae8483b54536f3f5b7552b45d6c77c3b921a2e53c2919eb9dc1ea7e171b5d"
			}
		}
	},
	"nbformat": 4,
	"nbformat_minor": 4,
	"title": "CS 4395 Homework 7: Text Classification"
}
