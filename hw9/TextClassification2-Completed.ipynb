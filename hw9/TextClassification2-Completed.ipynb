{
 "cells": [
  {
   "cell_type": "markdown",
   "id": "ffdd5773-831a-4aee-8e48-0121afe691cf",
   "metadata": {
    "id": "ffdd5773-831a-4aee-8e48-0121afe691cf"
   },
   "source": [
    "[Kaggle dataset](https://www.kaggle.com/datasets/rmisra/news-category-dataset)\n",
    "\n",
    "This is a dataset of news headlines and their categories. In this problem, we will tokenize the dataset on each word and feed it as sequence data into various models.\n",
    "\n",
    "The dataset is not split and is in JSON format, requiring heavy preprocessing to be loaded by Keras. I also use the `tf.data` API to load data in a RAM-efficient manner."
   ]
  },
  {
   "cell_type": "markdown",
   "id": "a7069c49-dcae-43a2-9a98-3e3894700db4",
   "metadata": {
    "id": "a7069c49-dcae-43a2-9a98-3e3894700db4"
   },
   "source": [
    "# Preprocessing"
   ]
  },
  {
   "cell_type": "markdown",
   "id": "daffb30c-21c3-404c-ae99-fd566237aae1",
   "metadata": {
    "id": "daffb30c-21c3-404c-ae99-fd566237aae1"
   },
   "source": [
    "## Load data"
   ]
  },
  {
   "cell_type": "code",
   "execution_count": null,
   "id": "1d57368b-c096-49e9-89d4-1621d97d2607",
   "metadata": {
    "id": "1d57368b-c096-49e9-89d4-1621d97d2607"
   },
   "outputs": [],
   "source": [
    "import pandas as pd\n",
    "import tensorflow as tf"
   ]
  },
  {
   "cell_type": "code",
   "execution_count": null,
   "id": "8a55f606-729d-43ae-a9a9-921486edb8a3",
   "metadata": {
    "id": "8a55f606-729d-43ae-a9a9-921486edb8a3"
   },
   "outputs": [],
   "source": [
    "df = pd.read_json(\n",
    "    './data/News_Category_Dataset_v3.json',\n",
    "    dtype={'category': 'category'},\n",
    "    lines=True\n",
    ")\n",
    "df = df[['headline', 'category']]"
   ]
  },
  {
   "cell_type": "markdown",
   "id": "023a5f60-07da-4f84-963c-a384a0669389",
   "metadata": {
    "id": "023a5f60-07da-4f84-963c-a384a0669389"
   },
   "source": [
    "## Preprocess data"
   ]
  },
  {
   "cell_type": "markdown",
   "id": "9bc00c02-436d-4373-b7d0-bc4ab8bee66d",
   "metadata": {
    "id": "9bc00c02-436d-4373-b7d0-bc4ab8bee66d"
   },
   "source": [
    "Save to file for Keras text dataset handling:"
   ]
  },
  {
   "cell_type": "code",
   "execution_count": null,
   "id": "a98086e5-0840-49e9-a3f2-74313e07f115",
   "metadata": {
    "colab": {
     "base_uri": "https://localhost:8080/"
    },
    "id": "a98086e5-0840-49e9-a3f2-74313e07f115",
    "jupyter": {
     "source_hidden": true
    },
    "outputId": "b5e13c4b-428a-4f47-b59f-907d51758855",
    "tags": []
   },
   "outputs": [
    {
     "data": {
      "text/plain": [
       "128310    None\n",
       "139983    None\n",
       "42339     None\n",
       "131494    None\n",
       "163649    None\n",
       "          ... \n",
       "91721     None\n",
       "10964     None\n",
       "140604    None\n",
       "182108    None\n",
       "28078     None\n",
       "Length: 41906, dtype: object"
      ]
     },
     "execution_count": 3,
     "metadata": {},
     "output_type": "execute_result"
    }
   ],
   "source": [
    "import os\n",
    "import re\n",
    "from pathlib import Path\n",
    "from sklearn.model_selection import train_test_split\n",
    "\n",
    "def remove_special_characters(input_string):\n",
    "    return re.sub('[^A-Za-z0-9]+', '', input_string)\n",
    "\n",
    "def save_row_subset(subset):\n",
    "    if subset != 'train' and subset != 'test':\n",
    "        raise ValueError('Must be one of {train, test}')\n",
    "    return lambda row: save_row(row, subset)\n",
    "\n",
    "def save_row(row, subset):\n",
    "    label = row['category']\n",
    "    headline = row['headline']\n",
    "    idx = row.name\n",
    "    save_path_root = Path(f'./data/ByCategory/{subset}/{remove_special_characters(label)}').resolve()\n",
    "    if not os.path.isdir(save_path_root):\n",
    "        os.makedirs(save_path_root)\n",
    "    save_path = save_path_root / f'{idx}.txt'\n",
    "    \n",
    "    with open(save_path, 'w') as f:\n",
    "        f.write(headline + \"\\n\")\n",
    "\n",
    "\n",
    "train_df, test_df = train_test_split(df, test_size=0.20, random_state=42)\n",
    "\n",
    "train_df.apply(save_row_subset('train'), axis=1)\n",
    "test_df.apply(save_row_subset('test'), axis=1)"
   ]
  },
  {
   "cell_type": "markdown",
   "id": "81537391-03a7-4afa-a2ed-bf730a54f65a",
   "metadata": {
    "id": "81537391-03a7-4afa-a2ed-bf730a54f65a"
   },
   "source": [
    "Create Keras datasets:"
   ]
  },
  {
   "cell_type": "code",
   "execution_count": null,
   "id": "fbc013e6-bce5-49af-b51c-ddb8719b5213",
   "metadata": {
    "colab": {
     "base_uri": "https://localhost:8080/"
    },
    "id": "fbc013e6-bce5-49af-b51c-ddb8719b5213",
    "outputId": "09878c55-4d51-4024-9184-b7e3fbb2b04f"
   },
   "outputs": [
    {
     "name": "stdout",
     "output_type": "stream",
     "text": [
      "Found 167621 files belonging to 42 classes.\n",
      "Using 150859 files for training.\n",
      "Using 16762 files for validation.\n",
      "Found 41906 files belonging to 42 classes.\n"
     ]
    }
   ],
   "source": [
    "BATCH_SIZE = 128\n",
    "seed = 42\n",
    "\n",
    "# load into TF dataset\n",
    "raw_train_ds, raw_val_ds = tf.keras.utils.text_dataset_from_directory(\n",
    "    './data/ByCategory/train',\n",
    "    batch_size=BATCH_SIZE,\n",
    "    label_mode='categorical',\n",
    "    validation_split=0.1,\n",
    "    subset='both',\n",
    "    seed=seed\n",
    ")\n",
    "\n",
    "raw_test_ds = tf.keras.utils.text_dataset_from_directory(\n",
    "    './data/ByCategory/test',\n",
    "    batch_size=BATCH_SIZE,\n",
    "    label_mode='categorical',\n",
    "    seed=seed\n",
    ")"
   ]
  },
  {
   "cell_type": "markdown",
   "id": "0e5dc252-e6ea-487c-8e57-1c68426ca77c",
   "metadata": {
    "id": "0e5dc252-e6ea-487c-8e57-1c68426ca77c"
   },
   "source": [
    "Vectorize data:"
   ]
  },
  {
   "cell_type": "code",
   "execution_count": null,
   "id": "e2d8fae5-2b1d-42e9-a680-793867c57dd2",
   "metadata": {
    "id": "e2d8fae5-2b1d-42e9-a680-793867c57dd2"
   },
   "outputs": [],
   "source": [
    "# vectorize sequences to length 120\n",
    "VOCAB_SIZE = 200000\n",
    "MAX_SEQUENCE_LENGTH = 120\n",
    "\n",
    "vectorize_layer = tf.keras.layers.TextVectorization(\n",
    "    max_tokens=VOCAB_SIZE,\n",
    "    output_mode='int',\n",
    "    output_sequence_length=MAX_SEQUENCE_LENGTH\n",
    ")\n",
    "\n",
    "train_text = raw_train_ds.map(lambda text, labels: text)\n",
    "val_text = raw_val_ds.map(lambda text, labels: text)\n",
    "vectorize_layer.adapt(train_text)\n",
    "vectorize_layer.adapt(val_text)\n",
    "\n",
    "def vectorize_text(text, label):\n",
    "    text = tf.expand_dims(text, -1)\n",
    "    return vectorize_layer(text), label\n",
    "\n",
    "AUTOTUNE = tf.data.AUTOTUNE\n",
    "\n",
    "def configure_dataset(dataset):\n",
    "    return dataset.cache().prefetch(buffer_size=AUTOTUNE)\n",
    "\n",
    "train_ds = configure_dataset(raw_train_ds.map(vectorize_text))\n",
    "val_ds = configure_dataset(raw_val_ds.map(vectorize_text))\n",
    "test_ds = configure_dataset(raw_test_ds.map(vectorize_text))"
   ]
  },
  {
   "cell_type": "markdown",
   "id": "59b0c7ac-eb34-4f3f-8403-05c98f2ca43f",
   "metadata": {
    "id": "59b0c7ac-eb34-4f3f-8403-05c98f2ca43f"
   },
   "source": [
    "## Visualize class distribution"
   ]
  },
  {
   "cell_type": "code",
   "execution_count": null,
   "id": "e5ddae60-185c-440c-adb7-6ac031cf6821",
   "metadata": {
    "colab": {
     "base_uri": "https://localhost:8080/",
     "height": 824
    },
    "id": "e5ddae60-185c-440c-adb7-6ac031cf6821",
    "outputId": "c8e21b09-c111-4317-d7b6-1c4973a084f6"
   },
   "outputs": [
    {
     "data": {
      "text/plain": [
       "<Axes: title={'center': 'Category Distribution'}>"
      ]
     },
     "execution_count": 12,
     "metadata": {},
     "output_type": "execute_result"
    },
    {
     "data": {
      "image/png": "[encoded data removed]",
      "text/plain": [
       "<Figure size 1000x800 with 1 Axes>"
      ]
     },
     "metadata": {},
     "output_type": "display_data"
    }
   ],
   "source": [
    "df['category'].value_counts().plot.bar(figsize=(10,8), title=\"Category Distribution\")"
   ]
  },
  {
   "cell_type": "markdown",
   "id": "158257f8-82b4-4b40-ad3c-fa576d1ca1e1",
   "metadata": {
    "id": "158257f8-82b4-4b40-ad3c-fa576d1ca1e1"
   },
   "source": [
    "We can see that most of the articles in the dataset are politics, followed by wellness, entertainment, travel, then style and beauty. However, there are disproportionately more politics articles, which may affect classification accuracy.\n",
    "\n",
    "\n",
    "The model should be able to predict the category of a new article given its headline. This can be used in news aggregator websites to determine under which section to put an article under."
   ]
  },
  {
   "cell_type": "markdown",
   "id": "7a823bc0-14b8-4aa3-bebf-24af1234864e",
   "metadata": {
    "id": "7a823bc0-14b8-4aa3-bebf-24af1234864e"
   },
   "source": [
    "# Train basic sequential model"
   ]
  },
  {
   "cell_type": "markdown",
   "id": "cd3b0207-b78c-46e7-ad92-a139e4825770",
   "metadata": {},
   "source": [
    "## Define helper function to create models"
   ]
  },
  {
   "cell_type": "markdown",
   "id": "0424b705-a51a-41ea-8a1a-f691024c680a",
   "metadata": {},
   "source": [
    "We will use this to create models in a quick and easy manner, abstracting away the training and evaluation steps in a standardized manner."
   ]
  },
  {
   "cell_type": "code",
   "execution_count": null,
   "id": "8656d29d-219a-4397-a56f-1899ee52e915",
   "metadata": {
    "id": "8656d29d-219a-4397-a56f-1899ee52e915"
   },
   "outputs": [],
   "source": [
    "# helper function to create models\n",
    "def eval_model(middle_layers, model_name='model', embedding_size=128, has_lstm=False, lstm_size=30, num_epochs=10, random_seed=42, return_model=False):\n",
    "    tf.keras.utils.set_random_seed(random_seed)\n",
    "    model = tf.keras.Sequential()\n",
    "    model.add(tf.keras.layers.Input(shape=(120,)))\n",
    "    model.add(tf.keras.layers.Embedding(VOCAB_SIZE + 1, embedding_size, mask_zero=True))\n",
    "    if not has_lstm:\n",
    "        model.add(tf.keras.layers.Flatten())\n",
    "    else:\n",
    "        model.add(tf.keras.layers.LSTM(lstm_size))\n",
    "    if middle_layers is not None:\n",
    "        for layer in middle_layers:\n",
    "            model.add(layer)\n",
    "    model.add(tf.keras.layers.Dense(42, activation='relu'))\n",
    "    model.compile(\n",
    "        loss=tf.keras.losses.CategoricalCrossentropy(from_logits=True),\n",
    "        optimizer='adam',\n",
    "        metrics=['accuracy', tf.keras.metrics.Precision(name='precision'), tf.keras.metrics.Recall(name='recall')]\n",
    "    )\n",
    "    model.summary()\n",
    "    history = model.fit(\n",
    "        train_ds,\n",
    "        validation_data=val_ds,\n",
    "        epochs=num_epochs\n",
    "    )\n",
    "    test_loss, test_acc, test_precision, test_recall = model.evaluate(test_ds)\n",
    "    train_loss, train_acc, train_precision, train_recall = history.history['loss'][-1], history.history['accuracy'][-1], history.history['precision'][-1], history.history['recall'][-1]\n",
    "    val_loss, val_acc, val_precision, val_recall = history.history['val_loss'][-1], history.history['val_accuracy'][-1], history.history['val_precision'][-1], history.history['val_recall'][-1]\n",
    "\n",
    "    metrics = {\n",
    "        'model_name': model_name,\n",
    "        'train_loss': train_loss,\n",
    "        'train_acc': train_acc,\n",
    "        'train_precision': train_precision,\n",
    "        'train_recall': train_recall,\n",
    "        'train_f1': 2 * (train_precision * train_recall) / (train_precision + train_recall),\n",
    "        'test_loss': test_loss,\n",
    "        'test_acc': test_acc,\n",
    "        'test_precision': test_precision,\n",
    "        'test_recall': test_recall,\n",
    "        'test_f1': 2 * (test_precision * test_recall) / (test_precision + test_recall),\n",
    "        'val_loss': val_loss,\n",
    "        'val_acc': val_acc,\n",
    "        'val_precision': test_precision,\n",
    "        'val_recall': test_recall,\n",
    "        'val_f1': 2 * (val_precision * val_recall) / (val_precision + val_recall),\n",
    "    }\n",
    "\n",
    "    if return_model:\n",
    "        return model, metrics\n",
    "    return metrics"
   ]
  },
  {
   "cell_type": "markdown",
   "id": "4b47b625-b607-4e36-a109-a41d7faaad62",
   "metadata": {},
   "source": [
    "# Basic model creation"
   ]
  },
  {
   "cell_type": "markdown",
   "id": "EGl0_Mow044G",
   "metadata": {
    "id": "EGl0_Mow044G"
   },
   "source": [
    "This simple sequential model has a 128-dimensional embedding with a flattening layer, 2 dense layers with 100 units each, sandwiched between a 20% dropout layer, and an output layer of 42 units."
   ]
  },
  {
   "cell_type": "code",
   "execution_count": null,
   "id": "f664af03-782c-42cf-ac4f-a627dce6a0d1",
   "metadata": {
    "colab": {
     "background_save": true,
     "base_uri": "https://localhost:8080/"
    },
    "id": "f664af03-782c-42cf-ac4f-a627dce6a0d1",
    "outputId": "8aaaabc4-ea57-476f-8d8c-e3e4f1b85cb9"
   },
   "outputs": [
    {
     "name": "stdout",
     "output_type": "stream",
     "text": [
      "Model: \"sequential_8\"\n",
      "_________________________________________________________________\n",
      " Layer (type)                Output Shape              Param #   \n",
      "=================================================================\n",
      " embedding_8 (Embedding)     (None, 120, 128)          25600128  \n",
      "                                                                 \n",
      " flatten_8 (Flatten)         (None, 15360)             0         \n",
      "                                                                 \n",
      " dense_24 (Dense)            (None, 100)               1536100   \n",
      "                                                                 \n",
      " dropout_8 (Dropout)         (None, 100)               0         \n",
      "                                                                 \n",
      " dense_25 (Dense)            (None, 100)               10100     \n",
      "                                                                 \n",
      " dense_26 (Dense)            (None, 42)                4242      \n",
      "                                                                 \n",
      "=================================================================\n",
      "Total params: 27,150,570\n",
      "Trainable params: 27,150,570\n",
      "Non-trainable params: 0\n",
      "_________________________________________________________________\n",
      "Epoch 1/10\n",
      "1179/1179 [==============================] - 33s 26ms/step - loss: 2.7352 - accuracy: 0.3439 - precision: 0.0988 - recall: 0.5432 - val_loss: 2.3931 - val_accuracy: 0.4316 - val_precision: 0.1199 - val_recall: 0.5773\n",
      "Epoch 2/10\n",
      "1179/1179 [==============================] - 13s 11ms/step - loss: 2.2929 - accuracy: 0.4496 - precision: 0.1369 - recall: 0.5927 - val_loss: 2.2835 - val_accuracy: 0.4544 - val_precision: 0.1507 - val_recall: 0.5910\n",
      "Epoch 3/10\n",
      "1179/1179 [==============================] - 12s 10ms/step - loss: 2.0629 - accuracy: 0.4944 - precision: 0.1712 - recall: 0.6074 - val_loss: 2.3459 - val_accuracy: 0.4494 - val_precision: 0.1752 - val_recall: 0.5801\n",
      "Epoch 4/10\n",
      "1179/1179 [==============================] - 12s 10ms/step - loss: 1.8743 - accuracy: 0.5374 - precision: 0.2024 - recall: 0.6198 - val_loss: 2.4445 - val_accuracy: 0.4521 - val_precision: 0.1682 - val_recall: 0.6037\n",
      "Epoch 5/10\n",
      "1179/1179 [==============================] - 12s 10ms/step - loss: 1.6896 - accuracy: 0.5883 - precision: 0.2159 - recall: 0.6550 - val_loss: 2.5694 - val_accuracy: 0.4464 - val_precision: 0.1988 - val_recall: 0.5830\n",
      "Epoch 6/10\n",
      "1179/1179 [==============================] - 12s 10ms/step - loss: 1.5717 - accuracy: 0.6132 - precision: 0.2576 - recall: 0.6572 - val_loss: 2.7165 - val_accuracy: 0.4392 - val_precision: 0.2307 - val_recall: 0.5609\n",
      "Epoch 7/10\n",
      "1179/1179 [==============================] - 12s 10ms/step - loss: 1.4980 - accuracy: 0.6281 - precision: 0.2898 - recall: 0.6587 - val_loss: 2.8922 - val_accuracy: 0.4320 - val_precision: 0.2541 - val_recall: 0.5437\n",
      "Epoch 8/10\n",
      "1179/1179 [==============================] - 13s 11ms/step - loss: 1.4494 - accuracy: 0.6369 - precision: 0.3226 - recall: 0.6592 - val_loss: 3.0063 - val_accuracy: 0.4311 - val_precision: 0.2562 - val_recall: 0.5419\n",
      "Epoch 9/10\n",
      "1179/1179 [==============================] - 12s 10ms/step - loss: 1.4154 - accuracy: 0.6434 - precision: 0.3410 - recall: 0.6601 - val_loss: 3.1700 - val_accuracy: 0.4326 - val_precision: 0.2721 - val_recall: 0.5345\n",
      "Epoch 10/10\n",
      "1179/1179 [==============================] - 12s 10ms/step - loss: 1.3923 - accuracy: 0.6467 - precision: 0.3570 - recall: 0.6605 - val_loss: 3.3365 - val_accuracy: 0.4337 - val_precision: 0.2659 - val_recall: 0.5410\n",
      "328/328 [==============================] - 1s 4ms/step - loss: 3.3581 - accuracy: 0.4153 - precision: 0.2641 - recall: 0.5262\n"
     ]
    }
   ],
   "source": [
    "seq_1_model, seq_1_metrics = eval_model([\n",
    "    tf.keras.layers.Dense(100, activation='relu'),\n",
    "    tf.keras.layers.Dropout(0.2),\n",
    "    tf.keras.layers.Dense(100, activation='relu')\n",
    "], return_model=True, model_name='sequential_model_basic')"
   ]
  },
  {
   "cell_type": "markdown",
   "id": "dI8M4IJ30KEe",
   "metadata": {
    "id": "dI8M4IJ30KEe"
   },
   "source": [
    "# Train LSTM model"
   ]
  },
  {
   "cell_type": "markdown",
   "id": "GRAnBcYV2e-J",
   "metadata": {
    "id": "GRAnBcYV2e-J"
   },
   "source": [
    "This simple LSTM model has a 128-dimensional embedding, a 30-unit LSTM layer, and a 100-unit dense layer with an output layer of 42 units."
   ]
  },
  {
   "cell_type": "code",
   "execution_count": 31,
   "id": "v0cQ3nP5z5rb",
   "metadata": {
    "colab": {
     "base_uri": "https://localhost:8080/"
    },
    "id": "v0cQ3nP5z5rb",
    "outputId": "12f5b728-b7f4-4ea9-c31d-055a5c6b76d3"
   },
   "outputs": [
    {
     "name": "stdout",
     "output_type": "stream",
     "text": [
      "Model: \"sequential_10\"\n",
      "_________________________________________________________________\n",
      " Layer (type)                Output Shape              Param #   \n",
      "=================================================================\n",
      " embedding_10 (Embedding)    (None, 120, 128)          25600128  \n",
      "                                                                 \n",
      " lstm_1 (LSTM)               (None, 30)                19080     \n",
      "                                                                 \n",
      " dense_29 (Dense)            (None, 100)               3100      \n",
      "                                                                 \n",
      " dense_30 (Dense)            (None, 42)                4242      \n",
      "                                                                 \n",
      "=================================================================\n",
      "Total params: 25,626,550\n",
      "Trainable params: 25,626,550\n",
      "Non-trainable params: 0\n",
      "_________________________________________________________________\n",
      "Epoch 1/10\n",
      "1179/1179 [==============================] - 55s 33ms/step - loss: 2.4751 - accuracy: 0.3962 - precision: 0.0873 - recall: 0.6701 - val_loss: 2.0761 - val_accuracy: 0.4950 - val_precision: 0.1074 - val_recall: 0.7286\n",
      "Epoch 2/10\n",
      "1179/1179 [==============================] - 18s 15ms/step - loss: 1.9659 - accuracy: 0.5212 - precision: 0.1157 - recall: 0.7334 - val_loss: 1.9814 - val_accuracy: 0.5245 - val_precision: 0.1253 - val_recall: 0.7251\n",
      "Epoch 3/10\n",
      "1179/1179 [==============================] - 19s 16ms/step - loss: 1.8033 - accuracy: 0.5611 - precision: 0.1356 - recall: 0.7386 - val_loss: 1.9870 - val_accuracy: 0.5259 - val_precision: 0.1440 - val_recall: 0.7151\n",
      "Epoch 4/10\n",
      "1179/1179 [==============================] - 19s 16ms/step - loss: 1.6834 - accuracy: 0.5925 - precision: 0.1559 - recall: 0.7406 - val_loss: 2.0397 - val_accuracy: 0.5219 - val_precision: 0.1612 - val_recall: 0.7062\n",
      "Epoch 5/10\n",
      "1179/1179 [==============================] - 19s 16ms/step - loss: 1.5796 - accuracy: 0.6184 - precision: 0.1784 - recall: 0.7414 - val_loss: 2.1323 - val_accuracy: 0.5144 - val_precision: 0.1775 - val_recall: 0.6914\n",
      "Epoch 6/10\n",
      "1179/1179 [==============================] - 19s 16ms/step - loss: 1.4873 - accuracy: 0.6406 - precision: 0.2021 - recall: 0.7417 - val_loss: 2.2687 - val_accuracy: 0.5056 - val_precision: 0.1922 - val_recall: 0.6765\n",
      "Epoch 7/10\n",
      "1179/1179 [==============================] - 18s 15ms/step - loss: 1.4066 - accuracy: 0.6598 - precision: 0.2263 - recall: 0.7418 - val_loss: 2.4104 - val_accuracy: 0.4973 - val_precision: 0.2068 - val_recall: 0.6616\n",
      "Epoch 8/10\n",
      "1179/1179 [==============================] - 19s 16ms/step - loss: 1.3393 - accuracy: 0.6741 - precision: 0.2497 - recall: 0.7417 - val_loss: 2.5622 - val_accuracy: 0.4901 - val_precision: 0.2176 - val_recall: 0.6510\n",
      "Epoch 9/10\n",
      "1179/1179 [==============================] - 18s 15ms/step - loss: 1.2797 - accuracy: 0.6867 - precision: 0.2717 - recall: 0.7418 - val_loss: 2.7240 - val_accuracy: 0.4783 - val_precision: 0.2312 - val_recall: 0.6349\n",
      "Epoch 10/10\n",
      "1179/1179 [==============================] - 19s 16ms/step - loss: 1.2306 - accuracy: 0.6979 - precision: 0.2935 - recall: 0.7418 - val_loss: 2.8824 - val_accuracy: 0.4775 - val_precision: 0.2424 - val_recall: 0.6273\n",
      "328/328 [==============================] - 2s 5ms/step - loss: 2.7918 - accuracy: 0.4723 - precision: 0.2441 - recall: 0.6262\n"
     ]
    }
   ],
   "source": [
    "lstm_1_model, lstm_1_metrics = eval_model([\n",
    "    tf.keras.layers.Dense(100, activation='relu'),\n",
    "], has_lstm=True, return_model=True, model_name='lstm_model_basic')"
   ]
  },
  {
   "cell_type": "markdown",
   "id": "-iXWF9YA2nW8",
   "metadata": {
    "id": "-iXWF9YA2nW8"
   },
   "source": [
    "# Create larger embeddings for both models"
   ]
  },
  {
   "cell_type": "markdown",
   "id": "s6mNqv_p2tsJ",
   "metadata": {
    "id": "s6mNqv_p2tsJ"
   },
   "source": [
    "These models are the same as the ones above, just with larger embeddings."
   ]
  },
  {
   "cell_type": "code",
   "execution_count": 32,
   "id": "nBnx7-rZ0Yji",
   "metadata": {
    "colab": {
     "base_uri": "https://localhost:8080/"
    },
    "id": "nBnx7-rZ0Yji",
    "outputId": "f8cb5190-39d3-4256-acd6-51e5466d675c"
   },
   "outputs": [
    {
     "name": "stdout",
     "output_type": "stream",
     "text": [
      "Model: \"sequential_11\"\n",
      "_________________________________________________________________\n",
      " Layer (type)                Output Shape              Param #   \n",
      "=================================================================\n",
      " embedding_11 (Embedding)    (None, 120, 256)          51200256  \n",
      "                                                                 \n",
      " flatten_9 (Flatten)         (None, 30720)             0         \n",
      "                                                                 \n",
      " dense_31 (Dense)            (None, 100)               3072100   \n",
      "                                                                 \n",
      " dropout_9 (Dropout)         (None, 100)               0         \n",
      "                                                                 \n",
      " dense_32 (Dense)            (None, 100)               10100     \n",
      "                                                                 \n",
      " dense_33 (Dense)            (None, 42)                4242      \n",
      "                                                                 \n",
      "=================================================================\n",
      "Total params: 54,286,698\n",
      "Trainable params: 54,286,698\n",
      "Non-trainable params: 0\n",
      "_________________________________________________________________\n",
      "Epoch 1/10\n",
      "1179/1179 [==============================] - 55s 45ms/step - loss: 2.9021 - accuracy: 0.3029 - precision: 0.0986 - recall: 0.4648 - val_loss: 2.6085 - val_accuracy: 0.3767 - val_precision: 0.1254 - val_recall: 0.4976\n",
      "Epoch 2/10\n",
      "1179/1179 [==============================] - 20s 17ms/step - loss: 2.3564 - accuracy: 0.4419 - precision: 0.1212 - recall: 0.6027 - val_loss: 2.2367 - val_accuracy: 0.4729 - val_precision: 0.1235 - val_recall: 0.6426\n",
      "Epoch 3/10\n",
      "1179/1179 [==============================] - 20s 17ms/step - loss: 1.9956 - accuracy: 0.5223 - precision: 0.1452 - recall: 0.6584 - val_loss: 2.2717 - val_accuracy: 0.4730 - val_precision: 0.1497 - val_recall: 0.6259\n",
      "Epoch 4/10\n",
      "1179/1179 [==============================] - 22s 19ms/step - loss: 1.7714 - accuracy: 0.5709 - precision: 0.1780 - recall: 0.6662 - val_loss: 2.3965 - val_accuracy: 0.4598 - val_precision: 0.1800 - val_recall: 0.5950\n",
      "Epoch 5/10\n",
      "1179/1179 [==============================] - 22s 19ms/step - loss: 1.6068 - accuracy: 0.6048 - precision: 0.2143 - recall: 0.6694 - val_loss: 2.5573 - val_accuracy: 0.4537 - val_precision: 0.2075 - val_recall: 0.5766\n",
      "Epoch 6/10\n",
      "1179/1179 [==============================] - 22s 19ms/step - loss: 1.4950 - accuracy: 0.6285 - precision: 0.2461 - recall: 0.6721 - val_loss: 2.7860 - val_accuracy: 0.4412 - val_precision: 0.2252 - val_recall: 0.5548\n",
      "Epoch 7/10\n",
      "1179/1179 [==============================] - 20s 17ms/step - loss: 1.4266 - accuracy: 0.6423 - precision: 0.2689 - recall: 0.6735 - val_loss: 2.9067 - val_accuracy: 0.4360 - val_precision: 0.2267 - val_recall: 0.5511\n",
      "Epoch 8/10\n",
      "1179/1179 [==============================] - 20s 17ms/step - loss: 1.3842 - accuracy: 0.6509 - precision: 0.2849 - recall: 0.6745 - val_loss: 2.9658 - val_accuracy: 0.4372 - val_precision: 0.2396 - val_recall: 0.5440\n",
      "Epoch 9/10\n",
      "1179/1179 [==============================] - 19s 16ms/step - loss: 1.3504 - accuracy: 0.6585 - precision: 0.3004 - recall: 0.6752 - val_loss: 3.1576 - val_accuracy: 0.4281 - val_precision: 0.2296 - val_recall: 0.5419\n",
      "Epoch 10/10\n",
      "1179/1179 [==============================] - 21s 18ms/step - loss: 1.3326 - accuracy: 0.6618 - precision: 0.3059 - recall: 0.6757 - val_loss: 3.2077 - val_accuracy: 0.4303 - val_precision: 0.2589 - val_recall: 0.5277\n",
      "328/328 [==============================] - 1s 3ms/step - loss: 3.2146 - accuracy: 0.4160 - precision: 0.2584 - recall: 0.5151\n"
     ]
    }
   ],
   "source": [
    "seq_2_model, seq_2_metrics = eval_model([\n",
    "    tf.keras.layers.Dense(100, activation='relu'),\n",
    "    tf.keras.layers.Dropout(0.2),\n",
    "    tf.keras.layers.Dense(100, activation='relu')\n",
    "], return_model=True, embedding_size=256, model_name='sequential_model_basic_big_embedding')"
   ]
  },
  {
   "cell_type": "code",
   "execution_count": 34,
   "id": "2WGcWjrB274Q",
   "metadata": {
    "colab": {
     "base_uri": "https://localhost:8080/"
    },
    "id": "2WGcWjrB274Q",
    "outputId": "f5d0c101-1b63-4e62-a2c4-7e01710b9fd8"
   },
   "outputs": [
    {
     "name": "stdout",
     "output_type": "stream",
     "text": [
      "Model: \"sequential_13\"\n",
      "_________________________________________________________________\n",
      " Layer (type)                Output Shape              Param #   \n",
      "=================================================================\n",
      " embedding_13 (Embedding)    (None, 120, 256)          51200256  \n",
      "                                                                 \n",
      " lstm_3 (LSTM)               (None, 30)                34440     \n",
      "                                                                 \n",
      " dense_36 (Dense)            (None, 100)               3100      \n",
      "                                                                 \n",
      " dense_37 (Dense)            (None, 42)                4242      \n",
      "                                                                 \n",
      "=================================================================\n",
      "Total params: 51,242,038\n",
      "Trainable params: 51,242,038\n",
      "Non-trainable params: 0\n",
      "_________________________________________________________________\n",
      "Epoch 1/10\n",
      "1179/1179 [==============================] - 51s 38ms/step - loss: 2.4599 - accuracy: 0.4175 - precision: 0.0886 - recall: 0.6511 - val_loss: 2.0810 - val_accuracy: 0.5159 - val_precision: 0.1096 - val_recall: 0.7060\n",
      "Epoch 2/10\n",
      "1179/1179 [==============================] - 26s 22ms/step - loss: 1.9609 - accuracy: 0.5392 - precision: 0.1217 - recall: 0.7121 - val_loss: 2.0121 - val_accuracy: 0.5321 - val_precision: 0.1321 - val_recall: 0.7013\n",
      "Epoch 3/10\n",
      "1179/1179 [==============================] - 26s 22ms/step - loss: 1.7882 - accuracy: 0.5805 - precision: 0.1458 - recall: 0.7183 - val_loss: 2.0570 - val_accuracy: 0.5273 - val_precision: 0.1522 - val_recall: 0.6880\n",
      "Epoch 4/10\n",
      "1179/1179 [==============================] - 26s 22ms/step - loss: 1.6572 - accuracy: 0.6111 - precision: 0.1715 - recall: 0.7205 - val_loss: 2.1547 - val_accuracy: 0.5163 - val_precision: 0.1702 - val_recall: 0.6708\n",
      "Epoch 5/10\n",
      "1179/1179 [==============================] - 26s 22ms/step - loss: 1.5434 - accuracy: 0.6372 - precision: 0.1989 - recall: 0.7213 - val_loss: 2.2838 - val_accuracy: 0.5067 - val_precision: 0.1911 - val_recall: 0.6486\n",
      "Epoch 6/10\n",
      "1179/1179 [==============================] - 25s 21ms/step - loss: 1.4466 - accuracy: 0.6576 - precision: 0.2286 - recall: 0.7218 - val_loss: 2.4252 - val_accuracy: 0.4976 - val_precision: 0.2135 - val_recall: 0.6314\n",
      "Epoch 7/10\n",
      "1179/1179 [==============================] - 25s 21ms/step - loss: 1.3687 - accuracy: 0.6733 - precision: 0.2580 - recall: 0.7220 - val_loss: 2.5856 - val_accuracy: 0.4916 - val_precision: 0.2309 - val_recall: 0.6163\n",
      "Epoch 8/10\n",
      "1179/1179 [==============================] - 26s 22ms/step - loss: 1.3072 - accuracy: 0.6851 - precision: 0.2864 - recall: 0.7218 - val_loss: 2.7519 - val_accuracy: 0.4871 - val_precision: 0.2407 - val_recall: 0.6059\n",
      "Epoch 9/10\n",
      "1179/1179 [==============================] - 26s 22ms/step - loss: 1.2578 - accuracy: 0.6940 - precision: 0.3129 - recall: 0.7218 - val_loss: 2.8777 - val_accuracy: 0.4783 - val_precision: 0.2530 - val_recall: 0.5934\n",
      "Epoch 10/10\n",
      "1179/1179 [==============================] - 26s 22ms/step - loss: 1.2194 - accuracy: 0.7006 - precision: 0.3365 - recall: 0.7220 - val_loss: 3.0744 - val_accuracy: 0.4744 - val_precision: 0.2608 - val_recall: 0.5864\n",
      "328/328 [==============================] - 2s 6ms/step - loss: 2.9822 - accuracy: 0.4708 - precision: 0.2657 - recall: 0.5882\n"
     ]
    }
   ],
   "source": [
    "lstm_2_model, lstm_2_metrics = eval_model([\n",
    "    tf.keras.layers.Dense(100, activation='relu'),\n",
    "], has_lstm=True, embedding_size=256, return_model=True, model_name='lstm_model_basic_big_embedding')"
   ]
  },
  {
   "cell_type": "markdown",
   "id": "kW03tWhO3a8V",
   "metadata": {
    "id": "kW03tWhO3a8V"
   },
   "source": [
    "# Bigger LSTM model"
   ]
  },
  {
   "cell_type": "markdown",
   "id": "wcCCkFLK3eoR",
   "metadata": {
    "id": "wcCCkFLK3eoR"
   },
   "source": [
    "LSTM model with larger embeddings, more LSTM units, and similar dense layer config as the sequential one."
   ]
  },
  {
   "cell_type": "code",
   "execution_count": 35,
   "id": "s0Fw78R43Bq7",
   "metadata": {
    "colab": {
     "base_uri": "https://localhost:8080/"
    },
    "id": "s0Fw78R43Bq7",
    "outputId": "dd944f34-c55b-47bf-df18-d7ecc4229ead"
   },
   "outputs": [
    {
     "name": "stdout",
     "output_type": "stream",
     "text": [
      "Model: \"sequential_14\"\n",
      "_________________________________________________________________\n",
      " Layer (type)                Output Shape              Param #   \n",
      "=================================================================\n",
      " embedding_14 (Embedding)    (None, 120, 256)          51200256  \n",
      "                                                                 \n",
      " lstm_4 (LSTM)               (None, 100)               142800    \n",
      "                                                                 \n",
      " dense_38 (Dense)            (None, 100)               10100     \n",
      "                                                                 \n",
      " dropout_10 (Dropout)        (None, 100)               0         \n",
      "                                                                 \n",
      " dense_39 (Dense)            (None, 100)               10100     \n",
      "                                                                 \n",
      " dense_40 (Dense)            (None, 42)                4242      \n",
      "                                                                 \n",
      "=================================================================\n",
      "Total params: 51,367,498\n",
      "Trainable params: 51,367,498\n",
      "Non-trainable params: 0\n",
      "_________________________________________________________________\n",
      "Epoch 1/10\n",
      "1179/1179 [==============================] - 53s 39ms/step - loss: 2.6065 - accuracy: 0.3917 - precision: 0.1144 - recall: 0.5610 - val_loss: 2.2677 - val_accuracy: 0.4860 - val_precision: 0.1470 - val_recall: 0.6040\n",
      "Epoch 2/10\n",
      "1179/1179 [==============================] - 27s 23ms/step - loss: 2.2061 - accuracy: 0.4987 - precision: 0.1566 - recall: 0.6050 - val_loss: 2.2191 - val_accuracy: 0.4929 - val_precision: 0.1820 - val_recall: 0.6024\n",
      "Epoch 3/10\n",
      "1179/1179 [==============================] - 26s 22ms/step - loss: 2.0584 - accuracy: 0.5304 - precision: 0.1876 - recall: 0.6111 - val_loss: 2.2783 - val_accuracy: 0.4897 - val_precision: 0.2072 - val_recall: 0.5882\n",
      "Epoch 4/10\n",
      "1179/1179 [==============================] - 27s 23ms/step - loss: 1.9470 - accuracy: 0.5508 - precision: 0.2081 - recall: 0.6158 - val_loss: 2.3865 - val_accuracy: 0.4813 - val_precision: 0.2126 - val_recall: 0.5743\n",
      "Epoch 5/10\n",
      "1179/1179 [==============================] - 27s 23ms/step - loss: 1.8516 - accuracy: 0.5670 - precision: 0.2355 - recall: 0.6204 - val_loss: 2.4991 - val_accuracy: 0.4712 - val_precision: 0.2309 - val_recall: 0.5562\n",
      "Epoch 6/10\n",
      "1179/1179 [==============================] - 26s 22ms/step - loss: 1.7783 - accuracy: 0.5789 - precision: 0.2602 - recall: 0.6217 - val_loss: 2.6032 - val_accuracy: 0.4620 - val_precision: 0.2550 - val_recall: 0.5381\n",
      "Epoch 7/10\n",
      "1179/1179 [==============================] - 26s 22ms/step - loss: 1.7199 - accuracy: 0.5876 - precision: 0.2885 - recall: 0.6224 - val_loss: 2.7287 - val_accuracy: 0.4516 - val_precision: 0.2773 - val_recall: 0.5217\n",
      "Epoch 8/10\n",
      "1179/1179 [==============================] - 26s 22ms/step - loss: 1.6743 - accuracy: 0.5946 - precision: 0.3116 - recall: 0.6224 - val_loss: 2.9187 - val_accuracy: 0.4551 - val_precision: 0.2748 - val_recall: 0.5208\n",
      "Epoch 9/10\n",
      "1179/1179 [==============================] - 26s 22ms/step - loss: 1.6380 - accuracy: 0.5993 - precision: 0.3264 - recall: 0.6230 - val_loss: 3.0364 - val_accuracy: 0.4532 - val_precision: 0.2771 - val_recall: 0.5187\n",
      "Epoch 10/10\n",
      "1179/1179 [==============================] - 26s 22ms/step - loss: 1.6074 - accuracy: 0.6036 - precision: 0.3469 - recall: 0.6231 - val_loss: 3.1000 - val_accuracy: 0.4496 - val_precision: 0.2954 - val_recall: 0.5100\n",
      "328/328 [==============================] - 2s 5ms/step - loss: 3.0211 - accuracy: 0.4455 - precision: 0.2918 - recall: 0.5126\n"
     ]
    }
   ],
   "source": [
    "lstm_3_model, lstm_3_metrics = eval_model([\n",
    "    tf.keras.layers.Dense(100, activation='relu'),\n",
    "    tf.keras.layers.Dropout(0.2),\n",
    "    tf.keras.layers.Dense(100, activation='relu')\n",
    "], has_lstm=True, lstm_size=100, embedding_size=256, return_model=True, model_name='lstm_model_large')"
   ]
  },
  {
   "cell_type": "markdown",
   "id": "ar8l3_iX75hU",
   "metadata": {
    "id": "ar8l3_iX75hU"
   },
   "source": [
    "# Compare and analyze models"
   ]
  },
  {
   "cell_type": "code",
   "execution_count": 37,
   "id": "JpqY3bsr6Qgc",
   "metadata": {
    "colab": {
     "base_uri": "https://localhost:8080/",
     "height": 270
    },
    "id": "JpqY3bsr6Qgc",
    "outputId": "ebd460b2-869e-4b5f-d93e-d72fa40fe430"
   },
   "outputs": [
    {
     "data": {
      "text/html": [
       "\n",
       "  <div id=\"df-728e7d05-5b14-4f01-9351-b670a92ef179\">\n",
       "    <div class=\"colab-df-container\">\n",
       "      <div>\n",
       "<style scoped>\n",
       "    .dataframe tbody tr th:only-of-type {\n",
       "        vertical-align: middle;\n",
       "    }\n",
       "\n",
       "    .dataframe tbody tr th {\n",
       "        vertical-align: top;\n",
       "    }\n",
       "\n",
       "    .dataframe thead th {\n",
       "        text-align: right;\n",
       "    }\n",
       "</style>\n",
       "<table border=\"1\" class=\"dataframe\">\n",
       "  <thead>\n",
       "    <tr style=\"text-align: right;\">\n",
       "      <th></th>\n",
       "      <th>model_name</th>\n",
       "      <th>train_loss</th>\n",
       "      <th>train_acc</th>\n",
       "      <th>train_precision</th>\n",
       "      <th>train_recall</th>\n",
       "      <th>train_f1</th>\n",
       "      <th>test_loss</th>\n",
       "      <th>test_acc</th>\n",
       "      <th>test_precision</th>\n",
       "      <th>test_recall</th>\n",
       "      <th>test_f1</th>\n",
       "      <th>val_loss</th>\n",
       "      <th>val_acc</th>\n",
       "      <th>val_precision</th>\n",
       "      <th>val_recall</th>\n",
       "      <th>val_f1</th>\n",
       "    </tr>\n",
       "  </thead>\n",
       "  <tbody>\n",
       "    <tr>\n",
       "      <th>0</th>\n",
       "      <td>sequential_model_basic</td>\n",
       "      <td>1.392291</td>\n",
       "      <td>0.646750</td>\n",
       "      <td>0.356972</td>\n",
       "      <td>0.660458</td>\n",
       "      <td>0.463452</td>\n",
       "      <td>3.358078</td>\n",
       "      <td>0.415263</td>\n",
       "      <td>0.264149</td>\n",
       "      <td>0.526249</td>\n",
       "      <td>0.351742</td>\n",
       "      <td>3.336539</td>\n",
       "      <td>0.433659</td>\n",
       "      <td>0.264149</td>\n",
       "      <td>0.526249</td>\n",
       "      <td>0.356605</td>\n",
       "    </tr>\n",
       "    <tr>\n",
       "      <th>1</th>\n",
       "      <td>sequential_model_basic_big_embedding</td>\n",
       "      <td>1.332598</td>\n",
       "      <td>0.661757</td>\n",
       "      <td>0.305888</td>\n",
       "      <td>0.675704</td>\n",
       "      <td>0.421132</td>\n",
       "      <td>3.214554</td>\n",
       "      <td>0.416026</td>\n",
       "      <td>0.258409</td>\n",
       "      <td>0.515129</td>\n",
       "      <td>0.344170</td>\n",
       "      <td>3.207735</td>\n",
       "      <td>0.430319</td>\n",
       "      <td>0.258409</td>\n",
       "      <td>0.515129</td>\n",
       "      <td>0.347401</td>\n",
       "    </tr>\n",
       "    <tr>\n",
       "      <th>2</th>\n",
       "      <td>lstm_model_basic</td>\n",
       "      <td>1.230588</td>\n",
       "      <td>0.697850</td>\n",
       "      <td>0.293503</td>\n",
       "      <td>0.741819</td>\n",
       "      <td>0.420596</td>\n",
       "      <td>2.791766</td>\n",
       "      <td>0.472271</td>\n",
       "      <td>0.244146</td>\n",
       "      <td>0.626211</td>\n",
       "      <td>0.351320</td>\n",
       "      <td>2.882399</td>\n",
       "      <td>0.477509</td>\n",
       "      <td>0.244146</td>\n",
       "      <td>0.626211</td>\n",
       "      <td>0.349655</td>\n",
       "    </tr>\n",
       "    <tr>\n",
       "      <th>3</th>\n",
       "      <td>lstm_model_basic_big_embedding</td>\n",
       "      <td>1.219402</td>\n",
       "      <td>0.700601</td>\n",
       "      <td>0.336535</td>\n",
       "      <td>0.721972</td>\n",
       "      <td>0.459079</td>\n",
       "      <td>2.982210</td>\n",
       "      <td>0.470816</td>\n",
       "      <td>0.265722</td>\n",
       "      <td>0.588221</td>\n",
       "      <td>0.366075</td>\n",
       "      <td>3.074434</td>\n",
       "      <td>0.474406</td>\n",
       "      <td>0.265722</td>\n",
       "      <td>0.588221</td>\n",
       "      <td>0.361052</td>\n",
       "    </tr>\n",
       "    <tr>\n",
       "      <th>4</th>\n",
       "      <td>lstm_model_large</td>\n",
       "      <td>1.607377</td>\n",
       "      <td>0.603603</td>\n",
       "      <td>0.346931</td>\n",
       "      <td>0.623052</td>\n",
       "      <td>0.445690</td>\n",
       "      <td>3.021123</td>\n",
       "      <td>0.445521</td>\n",
       "      <td>0.291802</td>\n",
       "      <td>0.512600</td>\n",
       "      <td>0.371898</td>\n",
       "      <td>3.100049</td>\n",
       "      <td>0.449648</td>\n",
       "      <td>0.291802</td>\n",
       "      <td>0.512600</td>\n",
       "      <td>0.374125</td>\n",
       "    </tr>\n",
       "  </tbody>\n",
       "</table>\n",
       "</div>\n",
       "      <button class=\"colab-df-convert\" onclick=\"convertToInteractive('df-728e7d05-5b14-4f01-9351-b670a92ef179')\"\n",
       "              title=\"Convert this dataframe to an interactive table.\"\n",
       "              style=\"display:none;\">\n",
       "        \n",
       "  <svg xmlns=\"http://www.w3.org/2000/svg\" height=\"24px\"viewBox=\"0 0 24 24\"\n",
       "       width=\"24px\">\n",
       "    <path d=\"M0 0h24v24H0V0z\" fill=\"none\"/>\n",
       "    <path d=\"M18.56 5.44l.94 2.06.94-2.06 2.06-.94-2.06-.94-.94-2.06-.94 2.06-2.06.94zm-11 1L8.5 8.5l.94-2.06 2.06-.94-2.06-.94L8.5 2.5l-.94 2.06-2.06.94zm10 10l.94 2.06.94-2.06 2.06-.94-2.06-.94-.94-2.06-.94 2.06-2.06.94z\"/><path d=\"M17.41 7.96l-1.37-1.37c-.4-.4-.92-.59-1.43-.59-.52 0-1.04.2-1.43.59L10.3 9.45l-7.72 7.72c-.78.78-.78 2.05 0 2.83L4 21.41c.39.39.9.59 1.41.59.51 0 1.02-.2 1.41-.59l7.78-7.78 2.81-2.81c.8-.78.8-2.07 0-2.86zM5.41 20L4 18.59l7.72-7.72 1.47 1.35L5.41 20z\"/>\n",
       "  </svg>\n",
       "      </button>\n",
       "      \n",
       "  <style>\n",
       "    .colab-df-container {\n",
       "      display:flex;\n",
       "      flex-wrap:wrap;\n",
       "      gap: 12px;\n",
       "    }\n",
       "\n",
       "    .colab-df-convert {\n",
       "      background-color: #E8F0FE;\n",
       "      border: none;\n",
       "      border-radius: 50%;\n",
       "      cursor: pointer;\n",
       "      display: none;\n",
       "      fill: #1967D2;\n",
       "      height: 32px;\n",
       "      padding: 0 0 0 0;\n",
       "      width: 32px;\n",
       "    }\n",
       "\n",
       "    .colab-df-convert:hover {\n",
       "      background-color: #E2EBFA;\n",
       "      box-shadow: 0px 1px 2px rgba(60, 64, 67, 0.3), 0px 1px 3px 1px rgba(60, 64, 67, 0.15);\n",
       "      fill: #174EA6;\n",
       "    }\n",
       "\n",
       "    [theme=dark] .colab-df-convert {\n",
       "      background-color: #3B4455;\n",
       "      fill: #D2E3FC;\n",
       "    }\n",
       "\n",
       "    [theme=dark] .colab-df-convert:hover {\n",
       "      background-color: #434B5C;\n",
       "      box-shadow: 0px 1px 3px 1px rgba(0, 0, 0, 0.15);\n",
       "      filter: drop-shadow(0px 1px 2px rgba(0, 0, 0, 0.3));\n",
       "      fill: #FFFFFF;\n",
       "    }\n",
       "  </style>\n",
       "\n",
       "      <script>\n",
       "        const buttonEl =\n",
       "          document.querySelector('#df-728e7d05-5b14-4f01-9351-b670a92ef179 button.colab-df-convert');\n",
       "        buttonEl.style.display =\n",
       "          google.colab.kernel.accessAllowed ? 'block' : 'none';\n",
       "\n",
       "        async function convertToInteractive(key) {\n",
       "          const element = document.querySelector('#df-728e7d05-5b14-4f01-9351-b670a92ef179');\n",
       "          const dataTable =\n",
       "            await google.colab.kernel.invokeFunction('convertToInteractive',\n",
       "                                                     [key], {});\n",
       "          if (!dataTable) return;\n",
       "\n",
       "          const docLinkHtml = 'Like what you see? Visit the ' +\n",
       "            '<a target=\"_blank\" href=https://colab.research.google.com/notebooks/data_table.ipynb>data table notebook</a>'\n",
       "            + ' to learn more about interactive tables.';\n",
       "          element.innerHTML = '';\n",
       "          dataTable['output_type'] = 'display_data';\n",
       "          await google.colab.output.renderOutput(dataTable, element);\n",
       "          const docLink = document.createElement('div');\n",
       "          docLink.innerHTML = docLinkHtml;\n",
       "          element.appendChild(docLink);\n",
       "        }\n",
       "      </script>\n",
       "    </div>\n",
       "  </div>\n",
       "  "
      ],
      "text/plain": [
       "                             model_name  train_loss  train_acc  \\\n",
       "0                sequential_model_basic    1.392291   0.646750   \n",
       "1  sequential_model_basic_big_embedding    1.332598   0.661757   \n",
       "2                      lstm_model_basic    1.230588   0.697850   \n",
       "3        lstm_model_basic_big_embedding    1.219402   0.700601   \n",
       "4                      lstm_model_large    1.607377   0.603603   \n",
       "\n",
       "   train_precision  train_recall  train_f1  test_loss  test_acc  \\\n",
       "0         0.356972      0.660458  0.463452   3.358078  0.415263   \n",
       "1         0.305888      0.675704  0.421132   3.214554  0.416026   \n",
       "2         0.293503      0.741819  0.420596   2.791766  0.472271   \n",
       "3         0.336535      0.721972  0.459079   2.982210  0.470816   \n",
       "4         0.346931      0.623052  0.445690   3.021123  0.445521   \n",
       "\n",
       "   test_precision  test_recall   test_f1  val_loss   val_acc  val_precision  \\\n",
       "0        0.264149     0.526249  0.351742  3.336539  0.433659       0.264149   \n",
       "1        0.258409     0.515129  0.344170  3.207735  0.430319       0.258409   \n",
       "2        0.244146     0.626211  0.351320  2.882399  0.477509       0.244146   \n",
       "3        0.265722     0.588221  0.366075  3.074434  0.474406       0.265722   \n",
       "4        0.291802     0.512600  0.371898  3.100049  0.449648       0.291802   \n",
       "\n",
       "   val_recall    val_f1  \n",
       "0    0.526249  0.356605  \n",
       "1    0.515129  0.347401  \n",
       "2    0.626211  0.349655  \n",
       "3    0.588221  0.361052  \n",
       "4    0.512600  0.374125  "
      ]
     },
     "execution_count": 37,
     "metadata": {},
     "output_type": "execute_result"
    }
   ],
   "source": [
    "model_metrics = pd.DataFrame.from_records([\n",
    "    seq_1_metrics, seq_2_metrics, lstm_1_metrics, lstm_2_metrics, lstm_3_metrics\n",
    "])\n",
    "model_metrics"
   ]
  },
  {
   "cell_type": "markdown",
   "id": "NAH-A_J08bdx",
   "metadata": {
    "id": "NAH-A_J08bdx"
   },
   "source": [
    "Each model has metrics for loss, accuracy, precision, recall, and $F_1$ score for the train, test, and validation sets. We can see that the `lstm_model_large` performed the best when compared in $F_1$ score to the others. Even though the accuracy is about 3% lower on the test set than the next best performing model (`lstm_model_basic`), we accept this tradeoff for better classification performance given the imblanced dataset.\n",
    "\n",
    "If we wanted to perform better, we may try using pretrained word embeddings to capture semantic word meanings in order to boost classification performance.\n",
    "\n",
    "Overall, the problem of predicting categories from just a headline proved to be hard to improve performance on, and a larger model does better in $F_1$ metrics while sometimes sacrificing accuracy."
   ]
  }
 ],
 "metadata": {
  "accelerator": "GPU",
  "authors": [
   {
    "name": "Aditya Rathod (AGR190000)"
   }
  ],
  "colab": {
   "provenance": []
  },
  "gpuClass": "standard",
  "kernelspec": {
   "display_name": "Python 3 (ipykernel)",
   "language": "python",
   "name": "python3"
  },
  "language_info": {
   "codemirror_mode": {
    "name": "ipython",
    "version": 3
   },
   "file_extension": ".py",
   "mimetype": "text/x-python",
   "name": "python",
   "nbconvert_exporter": "python",
   "pygments_lexer": "ipython3",
   "version": "3.10.9"
  },
  "title": "Comparing the Classification Performance of Various Models on News Headlines"
 },
 "nbformat": 4,
 "nbformat_minor": 5
}
